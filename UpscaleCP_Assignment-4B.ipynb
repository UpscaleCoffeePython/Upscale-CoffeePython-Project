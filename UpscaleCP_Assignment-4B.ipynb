{
 "cells": [
  {
   "cell_type": "markdown",
   "metadata": {},
   "source": [
    "# Assignment 4B"
   ]
  },
  {
   "cell_type": "markdown",
   "metadata": {},
   "source": [
    "Version 1.01"
   ]
  },
  {
   "cell_type": "markdown",
   "metadata": {},
   "source": [
    "Members: \n",
    "1. Mikaela Aquino\n",
    "2. Kirsten Cuenco\n",
    "3. Jay Lui\n",
    "4. Nygel Ramos\n",
    "5. Paris Tan"
   ]
  },
  {
   "cell_type": "markdown",
   "metadata": {},
   "source": [
    "**Prerequisite:** You need to have gone through Assignment 4A to work through the numbers below.\n",
    "\n",
    "To make sure that you've done the work, perform checks by running the next few cells below:\n",
    "\n"
   ]
  },
  {
   "cell_type": "code",
   "execution_count": 3,
   "metadata": {},
   "outputs": [],
   "source": [
    "import pymongo"
   ]
  },
  {
   "cell_type": "code",
   "execution_count": 4,
   "metadata": {},
   "outputs": [
    {
     "name": "stdout",
     "output_type": "stream",
     "text": [
      "['admin', 'config', 'hr', 'local', 'order_management', 'products']\n"
     ]
    }
   ],
   "source": [
    "myclient = pymongo.MongoClient(\"mongodb://localhost:27017/\")\n",
    "\n",
    "print(myclient.list_database_names())"
   ]
  },
  {
   "cell_type": "markdown",
   "metadata": {},
   "source": [
    "You should see the following databases:\n",
    "* order_management\n",
    "* products\n",
    "* hr"
   ]
  },
  {
   "cell_type": "markdown",
   "metadata": {},
   "source": [
    "Let's create handlers for each below:"
   ]
  },
  {
   "cell_type": "code",
   "execution_count": 5,
   "metadata": {},
   "outputs": [],
   "source": [
    "products_db = myclient[\"products\"]\n",
    "order_management_db = myclient[\"order_management\"]\n",
    "hr_db = myclient[\"hr\"]"
   ]
  },
  {
   "cell_type": "markdown",
   "metadata": {},
   "source": [
    "Let's revisit the employees collection. "
   ]
  },
  {
   "cell_type": "code",
   "execution_count": 7,
   "metadata": {},
   "outputs": [
    {
     "data": {
      "text/plain": [
       "[{'_id': 1, 'first_name': 'Bong', 'last_name': 'Olpoc', 'base_pay': 2200.0},\n",
       " {'_id': 2,\n",
       "  'first_name': 'Chums',\n",
       "  'last_name': 'Uy',\n",
       "  'base_pay': 1650.0000000000002},\n",
       " {'_id': 3,\n",
       "  'first_name': 'Joaqs',\n",
       "  'last_name': 'Gonzales',\n",
       "  'base_pay': 1100.0},\n",
       " {'_id': 4, 'first_name': 'Joben', 'last_name': 'Ilagan', 'base_pay': 1100.0},\n",
       " {'_id': 5, 'first_name': 'Sean', 'last_name': 'Uy', 'base_pay': 2200.0},\n",
       " {'_id': 6,\n",
       "  'first_name': 'Stephen',\n",
       "  'last_name': 'Chan',\n",
       "  'base_pay': 1650.0000000000002}]"
      ]
     },
     "execution_count": 7,
     "metadata": {},
     "output_type": "execute_result"
    }
   ],
   "source": [
    "employees_col = hr_db[\"employees\"]\n",
    "\n",
    "[e for e in employees_col.find()]"
   ]
  },
  {
   "cell_type": "markdown",
   "metadata": {},
   "source": [
    "Let's assign an employee id to make it easier to reference. The convention we will use is just to prefix a year, followed by `_id` with padded zeros.\n"
   ]
  },
  {
   "cell_type": "code",
   "execution_count": 8,
   "metadata": {},
   "outputs": [
    {
     "name": "stdout",
     "output_type": "stream",
     "text": [
      "190001\n",
      "190002\n",
      "190003\n",
      "190004\n",
      "190005\n",
      "190006\n"
     ]
    }
   ],
   "source": [
    "# we will have to update one document at a time, unfortunately\n",
    "\n",
    "for e in employees_col.find({}):    \n",
    "    # print(\"{}\".format(str(e[\"_id\"]).zfill(3)))\n",
    "    employee_id = \"19{}\".format(str(e[\"_id\"]).zfill(4))\n",
    "    print(employee_id)\n",
    "    employees_col.update_one({\"_id\":e[\"_id\"]},{\"$set\":{\"employee_id\":employee_id}})\n",
    "    \n"
   ]
  },
  {
   "cell_type": "code",
   "execution_count": 9,
   "metadata": {},
   "outputs": [
    {
     "name": "stdout",
     "output_type": "stream",
     "text": [
      "{'_id': 1, 'first_name': 'Bong', 'last_name': 'Olpoc', 'base_pay': 2200.0, 'employee_id': '190001'}\n",
      "{'_id': 2, 'first_name': 'Chums', 'last_name': 'Uy', 'base_pay': 1650.0000000000002, 'employee_id': '190002'}\n",
      "{'_id': 3, 'first_name': 'Joaqs', 'last_name': 'Gonzales', 'base_pay': 1100.0, 'employee_id': '190003'}\n",
      "{'_id': 4, 'first_name': 'Joben', 'last_name': 'Ilagan', 'base_pay': 1100.0, 'employee_id': '190004'}\n",
      "{'_id': 5, 'first_name': 'Sean', 'last_name': 'Uy', 'base_pay': 2200.0, 'employee_id': '190005'}\n",
      "{'_id': 6, 'first_name': 'Stephen', 'last_name': 'Chan', 'base_pay': 1650.0000000000002, 'employee_id': '190006'}\n"
     ]
    }
   ],
   "source": [
    "# check if new column employee_id was created\n",
    "for x in employees_col.find():\n",
    "    print(x)"
   ]
  },
  {
   "cell_type": "markdown",
   "metadata": {},
   "source": [
    "### 1) Logging Sales Orders"
   ]
  },
  {
   "cell_type": "markdown",
   "metadata": {},
   "source": [
    "Let's create a function `create_sales_order(collection, shopping_cart)` that takes on a MongoDB collection and a shopping cart directory as parameters and inserts the data directly as a document in the passed collection parameter."
   ]
  },
  {
   "cell_type": "markdown",
   "metadata": {},
   "source": [
    "But first, we need to create the collection **sales_orders** in **order_management**:"
   ]
  },
  {
   "cell_type": "code",
   "execution_count": 10,
   "metadata": {},
   "outputs": [],
   "source": [
    "sales_orders_col = order_management_db[\"sales_orders\"]"
   ]
  },
  {
   "cell_type": "markdown",
   "metadata": {},
   "source": [
    "#### 1a) Insert existing shopping carts to the new collection\n",
    "\n",
    "Existing shopping cart documents have already been defined below. Insert into the new collection. Let MongoDB handle creating the new `_id`s so no need to define these.\n",
    "\n",
    "(10 points)"
   ]
  },
  {
   "cell_type": "code",
   "execution_count": 11,
   "metadata": {},
   "outputs": [],
   "source": [
    "from datetime import datetime\n",
    "\n",
    "shopping_cart_list = [\n",
    "    {\"transaction_date\":datetime.strptime('Jul 1 2019  1:30PM', '%b %d %Y %I:%M%p'),\n",
    "     \"customer_id\":1,\n",
    "     \"clerk_id\":\"190002\",\n",
    "     \"total\":400,\n",
    "     \"items\":[\n",
    "         {\n",
    "             \"code\":\"beer\",\n",
    "             \"qty\":1,\n",
    "             \"subtotal\":200\n",
    "         },\n",
    "         {\n",
    "             \"code\":\"turmericbutter\",\n",
    "             \"qty\":1,\n",
    "             \"subtotal\":200\n",
    "         }\n",
    "     ]\n",
    "    },\n",
    "    {\"transaction_date\":datetime.strptime('Jul 1 2019  1:35PM', '%b %d %Y %I:%M%p'),\n",
    "     \"customer_id\":2,\n",
    "     \"clerk_id\":\"190001\",\n",
    "     \"total\":400,\n",
    "     \"items\":[\n",
    "         {\n",
    "             \"code\":\"beer\",\n",
    "             \"qty\":1,\n",
    "             \"subtotal\":200\n",
    "         },\n",
    "         {\n",
    "             \"code\":\"turmericbutter\",\n",
    "             \"qty\":1,\n",
    "             \"subtotal\":200\n",
    "         }\n",
    "     ]\n",
    "    },\n",
    "    {\"transaction_date\":datetime.strptime('Jul 1 2019  3:30PM', '%b %d %Y %I:%M%p'),\n",
    "     \"customer_id\":3,\n",
    "     \"clerk_id\":\"190003\",\n",
    "     \"total\":400,\n",
    "     \"items\":[\n",
    "         {\n",
    "             \"code\":\"beer\",\n",
    "             \"qty\":1,\n",
    "             \"subtotal\":200\n",
    "         },\n",
    "         {\n",
    "             \"code\":\"turmericbutter\",\n",
    "             \"qty\":1,\n",
    "             \"subtotal\":200\n",
    "         }\n",
    "     ]\n",
    "    },\n",
    "    {\"transaction_date\":datetime.strptime('Jul 1 2019  3:30PM', '%b %d %Y %I:%M%p'),\n",
    "     \"customer_id\":4,\n",
    "     \"clerk_id\":\"190004\",\n",
    "     \"total\":400,\n",
    "     \"items\":[\n",
    "         {\n",
    "             \"code\":\"beer\",\n",
    "             \"qty\":1,\n",
    "             \"subtotal\":200\n",
    "         },\n",
    "         {\n",
    "             \"code\":\"turmericbutter\",\n",
    "             \"qty\":1,\n",
    "             \"subtotal\":200\n",
    "         }\n",
    "     ]\n",
    "    },\n",
    "    {\"transaction_date\":datetime.strptime('Jul 1 2019  4:30PM', '%b %d %Y %I:%M%p'),\n",
    "     \"customer_id\":5,\n",
    "     \"clerk_id\":\"190001\",\n",
    "     \"total\":400,\n",
    "     \"items\":[\n",
    "         {\n",
    "             \"code\":\"beer\",\n",
    "             \"qty\":1,\n",
    "             \"subtotal\":200\n",
    "         },\n",
    "         {\n",
    "             \"code\":\"turmericbutter\",\n",
    "             \"qty\":1,\n",
    "             \"subtotal\":200\n",
    "         }\n",
    "     ]\n",
    "    },\n",
    "    {\"transaction_date\":datetime.strptime('Jul 1 2019  5:30PM', '%b %d %Y %I:%M%p'),\n",
    "     \"customer_id\":6,\n",
    "     \"clerk_id\":\"190006\",\n",
    "     \"total\":400,\n",
    "     \"items\":[\n",
    "         {\n",
    "             \"code\":\"beer\",\n",
    "             \"qty\":1,\n",
    "             \"subtotal\":200\n",
    "         },\n",
    "         {\n",
    "             \"code\":\"turmericbutter\",\n",
    "             \"qty\":1,\n",
    "             \"subtotal\":200\n",
    "         }\n",
    "     ]\n",
    "    },\n",
    "    {\"transaction_date\":datetime.strptime('Jul 1 2019  6:30PM', '%b %d %Y %I:%M%p'),\n",
    "     \"customer_id\":7,\n",
    "     \"clerk_id\":\"190005\",\n",
    "     \"total\":400,\n",
    "     \"items\":[\n",
    "         {\n",
    "             \"code\":\"beer\",\n",
    "             \"qty\":1,\n",
    "             \"subtotal\":200\n",
    "         },\n",
    "         {\n",
    "             \"code\":\"turmericbutter\",\n",
    "             \"qty\":1,\n",
    "             \"subtotal\":200\n",
    "         }\n",
    "     ]\n",
    "    },\n",
    "]"
   ]
  },
  {
   "cell_type": "code",
   "execution_count": 12,
   "metadata": {},
   "outputs": [
    {
     "data": {
      "text/plain": [
       "[{'transaction_date': datetime.datetime(2019, 7, 1, 13, 30),\n",
       "  'customer_id': 1,\n",
       "  'clerk_id': '190002',\n",
       "  'total': 400,\n",
       "  'items': [{'code': 'beer', 'qty': 1, 'subtotal': 200},\n",
       "   {'code': 'turmericbutter', 'qty': 1, 'subtotal': 200}]},\n",
       " {'transaction_date': datetime.datetime(2019, 7, 1, 13, 35),\n",
       "  'customer_id': 2,\n",
       "  'clerk_id': '190001',\n",
       "  'total': 400,\n",
       "  'items': [{'code': 'beer', 'qty': 1, 'subtotal': 200},\n",
       "   {'code': 'turmericbutter', 'qty': 1, 'subtotal': 200}]},\n",
       " {'transaction_date': datetime.datetime(2019, 7, 1, 15, 30),\n",
       "  'customer_id': 3,\n",
       "  'clerk_id': '190003',\n",
       "  'total': 400,\n",
       "  'items': [{'code': 'beer', 'qty': 1, 'subtotal': 200},\n",
       "   {'code': 'turmericbutter', 'qty': 1, 'subtotal': 200}]},\n",
       " {'transaction_date': datetime.datetime(2019, 7, 1, 15, 30),\n",
       "  'customer_id': 4,\n",
       "  'clerk_id': '190004',\n",
       "  'total': 400,\n",
       "  'items': [{'code': 'beer', 'qty': 1, 'subtotal': 200},\n",
       "   {'code': 'turmericbutter', 'qty': 1, 'subtotal': 200}]},\n",
       " {'transaction_date': datetime.datetime(2019, 7, 1, 16, 30),\n",
       "  'customer_id': 5,\n",
       "  'clerk_id': '190001',\n",
       "  'total': 400,\n",
       "  'items': [{'code': 'beer', 'qty': 1, 'subtotal': 200},\n",
       "   {'code': 'turmericbutter', 'qty': 1, 'subtotal': 200}]},\n",
       " {'transaction_date': datetime.datetime(2019, 7, 1, 17, 30),\n",
       "  'customer_id': 6,\n",
       "  'clerk_id': '190006',\n",
       "  'total': 400,\n",
       "  'items': [{'code': 'beer', 'qty': 1, 'subtotal': 200},\n",
       "   {'code': 'turmericbutter', 'qty': 1, 'subtotal': 200}]},\n",
       " {'transaction_date': datetime.datetime(2019, 7, 1, 18, 30),\n",
       "  'customer_id': 7,\n",
       "  'clerk_id': '190005',\n",
       "  'total': 400,\n",
       "  'items': [{'code': 'beer', 'qty': 1, 'subtotal': 200},\n",
       "   {'code': 'turmericbutter', 'qty': 1, 'subtotal': 200}]}]"
      ]
     },
     "execution_count": 12,
     "metadata": {},
     "output_type": "execute_result"
    }
   ],
   "source": [
    "shopping_cart_list"
   ]
  },
  {
   "cell_type": "code",
   "execution_count": 15,
   "metadata": {},
   "outputs": [
    {
     "name": "stdout",
     "output_type": "stream",
     "text": [
      "{'_id': ObjectId('5d344a6d0b6d5c4c59e624e4'), 'transaction_date': datetime.datetime(2019, 7, 1, 13, 30), 'customer_id': 1, 'clerk_id': '190002', 'total': 400, 'items': [{'code': 'beer', 'qty': 1, 'subtotal': 200}, {'code': 'turmericbutter', 'qty': 1, 'subtotal': 200}]}\n",
      "{'_id': ObjectId('5d344a6d0b6d5c4c59e624e5'), 'transaction_date': datetime.datetime(2019, 7, 1, 13, 35), 'customer_id': 2, 'clerk_id': '190001', 'total': 400, 'items': [{'code': 'beer', 'qty': 1, 'subtotal': 200}, {'code': 'turmericbutter', 'qty': 1, 'subtotal': 200}]}\n",
      "{'_id': ObjectId('5d344a6d0b6d5c4c59e624e6'), 'transaction_date': datetime.datetime(2019, 7, 1, 15, 30), 'customer_id': 3, 'clerk_id': '190003', 'total': 400, 'items': [{'code': 'beer', 'qty': 1, 'subtotal': 200}, {'code': 'turmericbutter', 'qty': 1, 'subtotal': 200}]}\n",
      "{'_id': ObjectId('5d344a6d0b6d5c4c59e624e7'), 'transaction_date': datetime.datetime(2019, 7, 1, 15, 30), 'customer_id': 4, 'clerk_id': '190004', 'total': 400, 'items': [{'code': 'beer', 'qty': 1, 'subtotal': 200}, {'code': 'turmericbutter', 'qty': 1, 'subtotal': 200}]}\n",
      "{'_id': ObjectId('5d344a6d0b6d5c4c59e624e8'), 'transaction_date': datetime.datetime(2019, 7, 1, 16, 30), 'customer_id': 5, 'clerk_id': '190001', 'total': 400, 'items': [{'code': 'beer', 'qty': 1, 'subtotal': 200}, {'code': 'turmericbutter', 'qty': 1, 'subtotal': 200}]}\n",
      "{'_id': ObjectId('5d344a6d0b6d5c4c59e624e9'), 'transaction_date': datetime.datetime(2019, 7, 1, 17, 30), 'customer_id': 6, 'clerk_id': '190006', 'total': 400, 'items': [{'code': 'beer', 'qty': 1, 'subtotal': 200}, {'code': 'turmericbutter', 'qty': 1, 'subtotal': 200}]}\n",
      "{'_id': ObjectId('5d344a6d0b6d5c4c59e624ea'), 'transaction_date': datetime.datetime(2019, 7, 1, 18, 30), 'customer_id': 7, 'clerk_id': '190005', 'total': 400, 'items': [{'code': 'beer', 'qty': 1, 'subtotal': 200}, {'code': 'turmericbutter', 'qty': 1, 'subtotal': 200}]}\n"
     ]
    }
   ],
   "source": [
    "## write code to insert to new collection below\n",
    "## ---------------------------------------------\n",
    "\n",
    "\n",
    "sales_orders_col.insert_many(shopping_cart_list)\n",
    "\n",
    "for x in sales_orders_col.find():\n",
    "    print(x)\n",
    "\n",
    "## if you want to repeat the process due to a mistake, run the following line:\n",
    "# sales_orders_col.delete_many({})"
   ]
  },
  {
   "cell_type": "markdown",
   "metadata": {},
   "source": [
    "#### 1b) Define the function  `create_sales_order(collection, shopping_cart)` and test with a new shopping cart dictionary\n",
    "\n",
    "(10 points)"
   ]
  },
  {
   "cell_type": "code",
   "execution_count": 18,
   "metadata": {},
   "outputs": [],
   "source": [
    "new_shopping_cart = {\n",
    "    \"transaction_date\":datetime.strptime('Jul 2 2019  8:30AM', '%b %d %Y %I:%M%p'),\n",
    "     \"customer_id\":3,\n",
    "     \"clerk_id\":\"190002\",\n",
    "     \"total\":400,\n",
    "     \"items\":[\n",
    "         {\n",
    "             \"code\":\"beer\",\n",
    "             \"qty\":2,\n",
    "             \"subtotal\":400\n",
    "         }\n",
    "     ]\n",
    "    }"
   ]
  },
  {
   "cell_type": "code",
   "execution_count": 19,
   "metadata": {},
   "outputs": [],
   "source": [
    "# define function here\n",
    "\n",
    "def create_sales_order(collection, shopping_cart):\n",
    "    return collection.insert_one(shopping_cart)    \n",
    "    \n",
    "    "
   ]
  },
  {
   "cell_type": "code",
   "execution_count": 20,
   "metadata": {},
   "outputs": [
    {
     "data": {
      "text/plain": [
       "[{'_id': ObjectId('5d344a6d0b6d5c4c59e624e4'),\n",
       "  'transaction_date': datetime.datetime(2019, 7, 1, 13, 30),\n",
       "  'customer_id': 1,\n",
       "  'clerk_id': '190002',\n",
       "  'total': 400,\n",
       "  'items': [{'code': 'beer', 'qty': 1, 'subtotal': 200},\n",
       "   {'code': 'turmericbutter', 'qty': 1, 'subtotal': 200}]},\n",
       " {'_id': ObjectId('5d344a6d0b6d5c4c59e624e5'),\n",
       "  'transaction_date': datetime.datetime(2019, 7, 1, 13, 35),\n",
       "  'customer_id': 2,\n",
       "  'clerk_id': '190001',\n",
       "  'total': 400,\n",
       "  'items': [{'code': 'beer', 'qty': 1, 'subtotal': 200},\n",
       "   {'code': 'turmericbutter', 'qty': 1, 'subtotal': 200}]},\n",
       " {'_id': ObjectId('5d344a6d0b6d5c4c59e624e6'),\n",
       "  'transaction_date': datetime.datetime(2019, 7, 1, 15, 30),\n",
       "  'customer_id': 3,\n",
       "  'clerk_id': '190003',\n",
       "  'total': 400,\n",
       "  'items': [{'code': 'beer', 'qty': 1, 'subtotal': 200},\n",
       "   {'code': 'turmericbutter', 'qty': 1, 'subtotal': 200}]},\n",
       " {'_id': ObjectId('5d344a6d0b6d5c4c59e624e7'),\n",
       "  'transaction_date': datetime.datetime(2019, 7, 1, 15, 30),\n",
       "  'customer_id': 4,\n",
       "  'clerk_id': '190004',\n",
       "  'total': 400,\n",
       "  'items': [{'code': 'beer', 'qty': 1, 'subtotal': 200},\n",
       "   {'code': 'turmericbutter', 'qty': 1, 'subtotal': 200}]},\n",
       " {'_id': ObjectId('5d344a6d0b6d5c4c59e624e8'),\n",
       "  'transaction_date': datetime.datetime(2019, 7, 1, 16, 30),\n",
       "  'customer_id': 5,\n",
       "  'clerk_id': '190001',\n",
       "  'total': 400,\n",
       "  'items': [{'code': 'beer', 'qty': 1, 'subtotal': 200},\n",
       "   {'code': 'turmericbutter', 'qty': 1, 'subtotal': 200}]},\n",
       " {'_id': ObjectId('5d344a6d0b6d5c4c59e624e9'),\n",
       "  'transaction_date': datetime.datetime(2019, 7, 1, 17, 30),\n",
       "  'customer_id': 6,\n",
       "  'clerk_id': '190006',\n",
       "  'total': 400,\n",
       "  'items': [{'code': 'beer', 'qty': 1, 'subtotal': 200},\n",
       "   {'code': 'turmericbutter', 'qty': 1, 'subtotal': 200}]},\n",
       " {'_id': ObjectId('5d344a6d0b6d5c4c59e624ea'),\n",
       "  'transaction_date': datetime.datetime(2019, 7, 1, 18, 30),\n",
       "  'customer_id': 7,\n",
       "  'clerk_id': '190005',\n",
       "  'total': 400,\n",
       "  'items': [{'code': 'beer', 'qty': 1, 'subtotal': 200},\n",
       "   {'code': 'turmericbutter', 'qty': 1, 'subtotal': 200}]},\n",
       " {'_id': ObjectId('5d344b1c0b6d5c4c59e624eb'),\n",
       "  'transaction_date': datetime.datetime(2019, 7, 2, 8, 30),\n",
       "  'customer_id': 3,\n",
       "  'clerk_id': '190002',\n",
       "  'total': 400,\n",
       "  'items': [{'code': 'beer', 'qty': 2, 'subtotal': 400}]}]"
      ]
     },
     "execution_count": 20,
     "metadata": {},
     "output_type": "execute_result"
    }
   ],
   "source": [
    "# test your new function here:\n",
    "\n",
    "create_sales_order(sales_orders_col, new_shopping_cart)\n",
    "\n",
    "# inspect whole sales_order collection\n",
    "[s for s in sales_orders_col.find({})]"
   ]
  },
  {
   "cell_type": "markdown",
   "metadata": {},
   "source": [
    "### 2) Determine commissions of clerks from sales orders"
   ]
  },
  {
   "cell_type": "markdown",
   "metadata": {},
   "source": [
    "Assuming each salesperson/clerk gets 1% of gross sales, list potentential commissions earned per sales order."
   ]
  },
  {
   "cell_type": "code",
   "execution_count": 25,
   "metadata": {},
   "outputs": [
    {
     "data": {
      "text/plain": [
       "[{'clerk_id': '190002', 'total': 400},\n",
       " {'clerk_id': '190001', 'total': 400},\n",
       " {'clerk_id': '190003', 'total': 400},\n",
       " {'clerk_id': '190004', 'total': 400},\n",
       " {'clerk_id': '190001', 'total': 400},\n",
       " {'clerk_id': '190006', 'total': 400},\n",
       " {'clerk_id': '190005', 'total': 400},\n",
       " {'clerk_id': '190002', 'total': 400}]"
      ]
     },
     "execution_count": 25,
     "metadata": {},
     "output_type": "execute_result"
    }
   ],
   "source": [
    "# do a quick dump of sales orders showing just the clerk id and total amount per sales order\n",
    "[o for o in sales_orders_col.find({},{\"_id\":0,\"clerk_id\":1,\"total\":1})]"
   ]
  },
  {
   "cell_type": "markdown",
   "metadata": {},
   "source": [
    "If you wish to display the name of the clerk, let's apply a lookup function"
   ]
  },
  {
   "cell_type": "code",
   "execution_count": 26,
   "metadata": {},
   "outputs": [
    {
     "data": {
      "text/plain": [
       "[{'Uy, Chums': {'total': 400, 'commissions': 4.0}},\n",
       " {'Olpoc, Bong': {'total': 400, 'commissions': 4.0}},\n",
       " {'Gonzales, Joaqs': {'total': 400, 'commissions': 4.0}},\n",
       " {'Ilagan, Joben': {'total': 400, 'commissions': 4.0}},\n",
       " {'Olpoc, Bong': {'total': 400, 'commissions': 4.0}},\n",
       " {'Chan, Stephen': {'total': 400, 'commissions': 4.0}},\n",
       " {'Uy, Sean': {'total': 400, 'commissions': 4.0}},\n",
       " {'Uy, Chums': {'total': 400, 'commissions': 4.0}}]"
      ]
     },
     "execution_count": 26,
     "metadata": {},
     "output_type": "execute_result"
    }
   ],
   "source": [
    "def employee_lookup(x):\n",
    "    employee = employees_col.find_one({\"employee_id\":x})\n",
    "    return \"{}, {}\".format(employee[\"last_name\"], employee[\"first_name\"])\n",
    "\n",
    "commission_rate = 0.01\n",
    "\n",
    "[{employee_lookup(o[\"clerk_id\"]):{\"total\":o[\"total\"], \"commissions\":o[\"total\"]*.01}} for o in sales_orders_col.find({},{\"_id\":0,\"clerk_id\":1,\"total\":1})]\n",
    "\n"
   ]
  },
  {
   "cell_type": "markdown",
   "metadata": {},
   "source": [
    "#### 2a) Generate a csv file containing total commissions earned per employee\n",
    "\n",
    "Go wild, be creative. Whether you generate the aggregate totals through accumulation (via regular iterators), Pandas dataframes, or through MongoDB aggregations, it's up to you.\n",
    "\n",
    "The file must be saved as **commissions.csv\""
   ]
  },
  {
   "cell_type": "markdown",
   "metadata": {},
   "source": [
    "The csv must have the following format:\n",
    "```\n",
    "last_name,first_name,total_sales,total_commissions\n",
    "```\n",
    "\n",
    "(20 points)"
   ]
  },
  {
   "cell_type": "code",
   "execution_count": 60,
   "metadata": {},
   "outputs": [
    {
     "name": "stdout",
     "output_type": "stream",
     "text": [
      "{'190002': 800, '190001': 800, '190003': 400, '190004': 400, '190006': 400, '190005': 400}\n",
      "{'190002': 8.0, '190001': 8.0, '190003': 4.0, '190004': 4.0, '190006': 4.0, '190005': 4.0}\n"
     ]
    }
   ],
   "source": [
    "# Scratch Cell\n",
    "\n",
    "sales_tally = {}\n",
    "\n",
    "for o in sales_orders_col.find({},{\"_id\":0,\"clerk_id\":1,\"total\":1}):\n",
    "    #print(o[\"clerk_id\"])\n",
    "    sales_tally[o[\"clerk_id\"]] = 0\n",
    "\n",
    "for o in sales_orders_col.find({},{\"_id\":0,\"clerk_id\":1,\"total\":1}):\n",
    "    sales_tally[o[\"clerk_id\"]] += o[\"total\"]\n",
    "    \n",
    "print(sales_tally)\n",
    "\n",
    "commissions_tally = {}\n",
    "\n",
    "for o in sales_orders_col.find({},{\"_id\":0,\"clerk_id\":1,\"total\":1}):\n",
    "    #print(o[\"clerk_id\"])\n",
    "    commissions_tally[o[\"clerk_id\"]] = 0\n",
    "\n",
    "for o in sales_orders_col.find({},{\"_id\":0,\"clerk_id\":1,\"total\":1}):\n",
    "    commissions_tally[o[\"clerk_id\"]] += (o[\"total\"]*0.01)\n",
    "    \n",
    "print(commissions_tally)\n",
    "\n",
    "\n"
   ]
  },
  {
   "cell_type": "code",
   "execution_count": 73,
   "metadata": {},
   "outputs": [
    {
     "name": "stdout",
     "output_type": "stream",
     "text": [
      "{'Bong': 800, 'Chums': 800, 'Joaqs': 400, 'Joben': 400, 'Sean': 400, 'Stephen': 400}\n",
      "{'Bong': 8.0, 'Chums': 8.0, 'Joaqs': 4.0, 'Joben': 4.0, 'Sean': 4.0, 'Stephen': 4.0}\n"
     ]
    }
   ],
   "source": [
    "# Scratch Cell\n",
    "\n",
    "name_sales = {}\n",
    "\n",
    "for x in employees_col.find():\n",
    "    for y in sales_tally:\n",
    "        #print(x[\"employee_id\"],y)\n",
    "        if x[\"employee_id\"] == y:\n",
    "            name_sales[x[\"first_name\"]] = sales_tally[y]\n",
    "\n",
    "print(name_sales)\n",
    "            \n",
    "name_commissions = {}\n",
    "\n",
    "for x in employees_col.find():\n",
    "    for y in commissions_tally:\n",
    "        #print(x[\"employee_id\"],y)\n",
    "        if x[\"employee_id\"] == y:\n",
    "            name_commissions[x[\"first_name\"]] = commissions_tally[y]\n",
    "            \n",
    "print(name_commissions)"
   ]
  },
  {
   "cell_type": "code",
   "execution_count": 79,
   "metadata": {},
   "outputs": [
    {
     "name": "stdout",
     "output_type": "stream",
     "text": [
      "['Bong', 'Chums', 'Joaqs', 'Joben', 'Sean', 'Stephen']\n",
      "['Olpoc', 'Uy', 'Gonzales', 'Ilagan', 'Uy', 'Chan']\n",
      "[800, 800, 400, 400, 400, 400]\n",
      "[8.0, 8.0, 4.0, 4.0, 4.0, 4.0]\n"
     ]
    }
   ],
   "source": [
    "first_names = []\n",
    "for x in employees_col.find():\n",
    "    #print(x[\"first_name\"])\n",
    "    first_names.append(x[\"first_name\"])\n",
    "print(first_names)\n",
    "\n",
    "last_names = []\n",
    "for x in employees_col.find():\n",
    "    #print(x[\"last_name\"])\n",
    "    last_names.append(x[\"last_name\"])\n",
    "print(last_names)\n",
    "\n",
    "total_sales = []\n",
    "\n",
    "for x in first_names:\n",
    "    for y in name_sales:\n",
    "        if x == y:\n",
    "            total_sales.append(name_sales[y])\n",
    "print(total_sales)\n",
    "\n",
    "total_commissions = []\n",
    "\n",
    "for x in first_names:\n",
    "    for y in name_commissions:\n",
    "        if x == y:\n",
    "            total_commissions.append(name_commissions[y])\n",
    "print(total_commissions)\n"
   ]
  },
  {
   "cell_type": "code",
   "execution_count": 84,
   "metadata": {},
   "outputs": [
    {
     "data": {
      "text/html": [
       "<div>\n",
       "<style scoped>\n",
       "    .dataframe tbody tr th:only-of-type {\n",
       "        vertical-align: middle;\n",
       "    }\n",
       "\n",
       "    .dataframe tbody tr th {\n",
       "        vertical-align: top;\n",
       "    }\n",
       "\n",
       "    .dataframe thead th {\n",
       "        text-align: right;\n",
       "    }\n",
       "</style>\n",
       "<table border=\"1\" class=\"dataframe\">\n",
       "  <thead>\n",
       "    <tr style=\"text-align: right;\">\n",
       "      <th></th>\n",
       "      <th>last_name</th>\n",
       "      <th>first_name</th>\n",
       "      <th>total_sales</th>\n",
       "      <th>total_commissions</th>\n",
       "    </tr>\n",
       "  </thead>\n",
       "  <tbody>\n",
       "    <tr>\n",
       "      <th>0</th>\n",
       "      <td>Olpoc</td>\n",
       "      <td>Bong</td>\n",
       "      <td>800</td>\n",
       "      <td>8.0</td>\n",
       "    </tr>\n",
       "    <tr>\n",
       "      <th>1</th>\n",
       "      <td>Uy</td>\n",
       "      <td>Chums</td>\n",
       "      <td>800</td>\n",
       "      <td>8.0</td>\n",
       "    </tr>\n",
       "    <tr>\n",
       "      <th>2</th>\n",
       "      <td>Gonzales</td>\n",
       "      <td>Joaqs</td>\n",
       "      <td>400</td>\n",
       "      <td>4.0</td>\n",
       "    </tr>\n",
       "    <tr>\n",
       "      <th>3</th>\n",
       "      <td>Ilagan</td>\n",
       "      <td>Joben</td>\n",
       "      <td>400</td>\n",
       "      <td>4.0</td>\n",
       "    </tr>\n",
       "    <tr>\n",
       "      <th>4</th>\n",
       "      <td>Uy</td>\n",
       "      <td>Sean</td>\n",
       "      <td>400</td>\n",
       "      <td>4.0</td>\n",
       "    </tr>\n",
       "    <tr>\n",
       "      <th>5</th>\n",
       "      <td>Chan</td>\n",
       "      <td>Stephen</td>\n",
       "      <td>400</td>\n",
       "      <td>4.0</td>\n",
       "    </tr>\n",
       "  </tbody>\n",
       "</table>\n",
       "</div>"
      ],
      "text/plain": [
       "  last_name first_name  total_sales  total_commissions\n",
       "0     Olpoc       Bong          800                8.0\n",
       "1        Uy      Chums          800                8.0\n",
       "2  Gonzales      Joaqs          400                4.0\n",
       "3    Ilagan      Joben          400                4.0\n",
       "4        Uy       Sean          400                4.0\n",
       "5      Chan    Stephen          400                4.0"
      ]
     },
     "execution_count": 84,
     "metadata": {},
     "output_type": "execute_result"
    }
   ],
   "source": [
    "import pandas as pd\n",
    "\n",
    "employee_df = pd.DataFrame({\"last_name\":last_names,\"first_name\":first_names,\"total_sales\":total_sales,\"total_commissions\":total_commissions})\n",
    "\n",
    "employee_df\n"
   ]
  },
  {
   "cell_type": "code",
   "execution_count": null,
   "metadata": {},
   "outputs": [],
   "source": [
    "employee_df.to_csv(\"commissions.csv\", index = False)"
   ]
  },
  {
   "cell_type": "code",
   "execution_count": 91,
   "metadata": {},
   "outputs": [
    {
     "data": {
      "text/plain": [
       "last_name             object\n",
       "first_name            object\n",
       "total_sales            int64\n",
       "total_commissions    float64\n",
       "dtype: object"
      ]
     },
     "execution_count": 91,
     "metadata": {},
     "output_type": "execute_result"
    }
   ],
   "source": [
    "employee_df.dtypes"
   ]
  },
  {
   "cell_type": "markdown",
   "metadata": {},
   "source": [
    "#### 2b) Generate a payslip per clerk\n",
    "\n",
    "Each clerk must receive a payslip (as represented by separate files with the format <employee id>-commissions.html) containing the following:\n",
    "    \n",
    "```\n",
    "<html>\n",
    "   <div>{first_name} {last_name}</div><br/>\n",
    "   <div id=\"total_sales\">\n",
    "       <div>Total Sales: </div><div>{total_sales}</div>\n",
    "   <div><br/>\n",
    "   <div id=\"total_commissions\">\n",
    "       <div>Total Commissions: </div><div>{total_commissions}\n",
    "   <div><br/>\n",
    "</html>\n",
    "```\n",
    "\n",
    "(20 points)"
   ]
  },
  {
   "cell_type": "code",
   "execution_count": 92,
   "metadata": {},
   "outputs": [],
   "source": [
    "stats_html = \"\"\"\n",
    "\n",
    "<html>\n",
    "   <div>{first_name} {last_name}</div><br/>\n",
    "   <div id=\"total_sales\">\n",
    "       <div>Total Sales: </div><div>{total_sales}</div>\n",
    "   <div><br/>\n",
    "   <div id=\"total_commissions\">\n",
    "       <div>Total Commissions: </div><div>{total_commissions}\n",
    "   <div><br/>\n",
    "</html>\n",
    "\n",
    "\"\"\"\n",
    "\n",
    "with open('B-Olpoc-commissions.html',\"w+\") as file:\n",
    "    content_html = stats_html.format(first_name = employee_df.iloc[0,1], last_name = employee_df.iloc[0,0], total_sales = employee_df.iloc[0,2], total_commissions = employee_df.iloc[0,3])\n",
    "    file.write(content_html)"
   ]
  },
  {
   "cell_type": "code",
   "execution_count": 94,
   "metadata": {},
   "outputs": [],
   "source": [
    "stats_html = \"\"\"\n",
    "\n",
    "<html>\n",
    "   <div>{first_name} {last_name}</div><br/>\n",
    "   <div id=\"total_sales\">\n",
    "       <div>Total Sales: </div><div>{total_sales}</div>\n",
    "   <div><br/>\n",
    "   <div id=\"total_commissions\">\n",
    "       <div>Total Commissions: </div><div>{total_commissions}\n",
    "   <div><br/>\n",
    "</html>\n",
    "\n",
    "\"\"\"\n",
    "\n",
    "with open('C-Uy-commissions.html',\"w+\") as file:\n",
    "    content_html = stats_html.format(first_name = employee_df.iloc[1,1], last_name = employee_df.iloc[1,0], total_sales = employee_df.iloc[1,2], total_commissions = employee_df.iloc[1,3])\n",
    "    file.write(content_html)\n",
    "    \n",
    "    "
   ]
  },
  {
   "cell_type": "code",
   "execution_count": 95,
   "metadata": {},
   "outputs": [],
   "source": [
    "stats_html = \"\"\"\n",
    "\n",
    "<html>\n",
    "   <div>{first_name} {last_name}</div><br/>\n",
    "   <div id=\"total_sales\">\n",
    "       <div>Total Sales: </div><div>{total_sales}</div>\n",
    "   <div><br/>\n",
    "   <div id=\"total_commissions\">\n",
    "       <div>Total Commissions: </div><div>{total_commissions}\n",
    "   <div><br/>\n",
    "</html>\n",
    "\n",
    "\"\"\"\n",
    "\n",
    "with open('J-Gonzales-commissions.html',\"w+\") as file:\n",
    "    content_html = stats_html.format(first_name = employee_df.iloc[2,1], last_name = employee_df.iloc[2,0], total_sales = employee_df.iloc[2,2], total_commissions = employee_df.iloc[2,3])\n",
    "    file.write(content_html)"
   ]
  },
  {
   "cell_type": "code",
   "execution_count": 96,
   "metadata": {},
   "outputs": [],
   "source": [
    "stats_html = \"\"\"\n",
    "\n",
    "<html>\n",
    "   <div>{first_name} {last_name}</div><br/>\n",
    "   <div id=\"total_sales\">\n",
    "       <div>Total Sales: </div><div>{total_sales}</div>\n",
    "   <div><br/>\n",
    "   <div id=\"total_commissions\">\n",
    "       <div>Total Commissions: </div><div>{total_commissions}\n",
    "   <div><br/>\n",
    "</html>\n",
    "\n",
    "\"\"\"\n",
    "\n",
    "with open('J-Ilagan-commissions.html',\"w+\") as file:\n",
    "    content_html = stats_html.format(first_name = employee_df.iloc[3,1], last_name = employee_df.iloc[3,0], total_sales = employee_df.iloc[3,2], total_commissions = employee_df.iloc[3,3])\n",
    "    file.write(content_html)"
   ]
  },
  {
   "cell_type": "code",
   "execution_count": 97,
   "metadata": {},
   "outputs": [],
   "source": [
    "stats_html = \"\"\"\n",
    "\n",
    "<html>\n",
    "   <div>{first_name} {last_name}</div><br/>\n",
    "   <div id=\"total_sales\">\n",
    "       <div>Total Sales: </div><div>{total_sales}</div>\n",
    "   <div><br/>\n",
    "   <div id=\"total_commissions\">\n",
    "       <div>Total Commissions: </div><div>{total_commissions}\n",
    "   <div><br/>\n",
    "</html>\n",
    "\n",
    "\"\"\"\n",
    "\n",
    "with open('S-Uy-commissions.html',\"w+\") as file:\n",
    "    content_html = stats_html.format(first_name = employee_df.iloc[4,1], last_name = employee_df.iloc[4,0], total_sales = employee_df.iloc[4,2], total_commissions = employee_df.iloc[4,3])\n",
    "    file.write(content_html)"
   ]
  },
  {
   "cell_type": "code",
   "execution_count": 98,
   "metadata": {},
   "outputs": [],
   "source": [
    "stats_html = \"\"\"\n",
    "\n",
    "<html>\n",
    "   <div>{first_name} {last_name}</div><br/>\n",
    "   <div id=\"total_sales\">\n",
    "       <div>Total Sales: </div><div>{total_sales}</div>\n",
    "   <div><br/>\n",
    "   <div id=\"total_commissions\">\n",
    "       <div>Total Commissions: </div><div>{total_commissions}\n",
    "   <div><br/>\n",
    "</html>\n",
    "\n",
    "\"\"\"\n",
    "\n",
    "with open('S-Chan-commissions.html',\"w+\") as file:\n",
    "    content_html = stats_html.format(first_name = employee_df.iloc[5,1], last_name = employee_df.iloc[5,0], total_sales = employee_df.iloc[5,2], total_commissions = employee_df.iloc[5,3])\n",
    "    file.write(content_html)"
   ]
  },
  {
   "cell_type": "code",
   "execution_count": null,
   "metadata": {},
   "outputs": [],
   "source": []
  }
 ],
 "metadata": {
  "kernelspec": {
   "display_name": "Python 3",
   "language": "python",
   "name": "python3"
  },
  "language_info": {
   "codemirror_mode": {
    "name": "ipython",
    "version": 3
   },
   "file_extension": ".py",
   "mimetype": "text/x-python",
   "name": "python",
   "nbconvert_exporter": "python",
   "pygments_lexer": "ipython3",
   "version": "3.7.3"
  }
 },
 "nbformat": 4,
 "nbformat_minor": 2
}
